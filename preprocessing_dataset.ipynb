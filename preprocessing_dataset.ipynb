{
 "cells": [
  {
   "cell_type": "code",
   "execution_count": 17,
   "metadata": {},
   "outputs": [
    {
     "name": "stderr",
     "output_type": "stream",
     "text": [
      "/home/victor/.local/lib/python3.8/site-packages/pydub/utils.py:170: RuntimeWarning: Couldn't find ffmpeg or avconv - defaulting to ffmpeg, but may not work\n",
      "  warn(\"Couldn't find ffmpeg or avconv - defaulting to ffmpeg, but may not work\", RuntimeWarning)\n"
     ]
    }
   ],
   "source": [
    "import json\n",
    "import librosa\n",
    "import requests\n",
    "import random\n",
    "import re\n",
    "import os\n",
    "import IPython.display as ipd\n",
    "from pydub import AudioSegment"
   ]
  },
  {
   "cell_type": "code",
   "execution_count": 14,
   "metadata": {},
   "outputs": [
    {
     "name": "stdout",
     "output_type": "stream",
     "text": [
      "20\n"
     ]
    }
   ],
   "source": [
    "dataset_base_path = \"./audio_files_raw/Iteration_02/audio_dataset\"\n",
    "files = os.listdir(dataset_base_path)\n",
    "\n",
    "print(len(files))"
   ]
  },
  {
   "cell_type": "code",
   "execution_count": 8,
   "metadata": {},
   "outputs": [],
   "source": [
    "with open(\"raw_dataset.txt\",\"w\") as f:\n",
    "    f.write(\" | \\n\".join(files))"
   ]
  },
  {
   "cell_type": "code",
   "execution_count": 15,
   "metadata": {},
   "outputs": [
    {
     "name": "stdout",
     "output_type": "stream",
     "text": [
      "20\n"
     ]
    }
   ],
   "source": [
    "with open(\"./audio_files_raw/Iteration_02/transcripts.txt\",\"r\") as f:\n",
    "    data = f.readlines()\n",
    "\n",
    "print(len(data))"
   ]
  },
  {
   "cell_type": "code",
   "execution_count": 9,
   "metadata": {},
   "outputs": [
    {
     "data": {
      "text/plain": [
       "'01.wav | The body feels under threat even though there is no threat. This is natural and can happen to anyone. Before meditating, my anxiety was high. I used to worry about my future a lot.\\n'"
      ]
     },
     "execution_count": 9,
     "metadata": {},
     "output_type": "execute_result"
    }
   ],
   "source": [
    "data[0]"
   ]
  },
  {
   "cell_type": "code",
   "execution_count": 18,
   "metadata": {},
   "outputs": [],
   "source": [
    "output_path = \"./audio_files_raw/Iteration_02/audio_dataset_mono\"\n",
    "for f in data :\n",
    "    i = f.split('|')\n",
    "    i = i[0].strip()\n",
    "    sound = AudioSegment.from_wav(os.path.join(dataset_base_path,i))\n",
    "    sound = sound.set_channels(1)\n",
    "    sound.export(os.path.join(output_path,i), format=\"wav\")"
   ]
  },
  {
   "cell_type": "code",
   "execution_count": 19,
   "metadata": {},
   "outputs": [
    {
     "name": "stdout",
     "output_type": "stream",
     "text": [
      "20\n"
     ]
    }
   ],
   "source": [
    "files_details = []\n",
    "\n",
    "for i in data:\n",
    "    filename = i.split('|')\n",
    "    audio_filepath = os.path.join(output_path, filename[0].strip())\n",
    "    duration = librosa.get_duration(filename=audio_filepath)\n",
    "    text = filename[1].strip('\\n')\n",
    "\n",
    "    r = {\n",
    "            \"audio_filepath\" : audio_filepath,\n",
    "            \"text\" : text,\n",
    "            \"duration\" : round(duration,1),\n",
    "            \"text_no_preprocessing\" : text,\n",
    "            \"text_no_preprocessing\" : re.sub(r\"[^a-z]\",\" \",text).rstrip(\" \")+\",\",\n",
    "            \"text_normalized\" : re.sub(r\"[^a-z]\",\" \",text).rstrip(\" \")+\",\"\n",
    "        }\n",
    "\n",
    "    files_details.append(r)\n",
    "\n",
    "print(len(files_details))"
   ]
  },
  {
   "cell_type": "code",
   "execution_count": 20,
   "metadata": {},
   "outputs": [],
   "source": [
    "percentage_training_data = 0.95"
   ]
  },
  {
   "cell_type": "code",
   "execution_count": 12,
   "metadata": {},
   "outputs": [],
   "source": [
    "random.shuffle(files_details)\n",
    "\n",
    "# get train, test, validation splits\n",
    "num_clips = len(files_details)\n",
    "train_end = int(num_clips * percentage_training_data)\n",
    "\n",
    "train = files_details[:train_end]\n",
    "validation = files_details[train_end:]"
   ]
  },
  {
   "cell_type": "code",
   "execution_count": 13,
   "metadata": {},
   "outputs": [],
   "source": [
    "train_manifest = './fastpitch_train.json'\n",
    "with open(train_manifest, \"w\") as f:\n",
    "    for r in train:\n",
    "        f.write(json.dumps(r) + '\\n')\n",
    "\n",
    "val_manifest = './fastpitch_val.json'\n",
    "with open(val_manifest, \"w\") as f:\n",
    "    for r in validation:\n",
    "        f.write(json.dumps(r) + '\\n')"
   ]
  },
  {
   "cell_type": "code",
   "execution_count": null,
   "metadata": {},
   "outputs": [],
   "source": []
  }
 ],
 "metadata": {
  "kernelspec": {
   "display_name": "Python 3.8.10 64-bit",
   "language": "python",
   "name": "python3"
  },
  "language_info": {
   "codemirror_mode": {
    "name": "ipython",
    "version": 3
   },
   "file_extension": ".py",
   "mimetype": "text/x-python",
   "name": "python",
   "nbconvert_exporter": "python",
   "pygments_lexer": "ipython3",
   "version": "3.8.10"
  },
  "orig_nbformat": 4,
  "vscode": {
   "interpreter": {
    "hash": "916dbcbb3f70747c44a77c7bcd40155683ae19c65e1c03b4aa3499c5328201f1"
   }
  }
 },
 "nbformat": 4,
 "nbformat_minor": 2
}
